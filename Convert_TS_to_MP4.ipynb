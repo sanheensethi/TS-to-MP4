{
  "nbformat": 4,
  "nbformat_minor": 0,
  "metadata": {
    "colab": {
      "name": "Convert TS to MP4",
      "provenance": [],
      "collapsed_sections": [
        "8E5__sTfEO-z",
        "K20E0Ru3EbWV"
      ],
      "mount_file_id": "1sSBuTn6MVWpf5mJWD2GRafb3K6eDjkKL",
      "authorship_tag": "ABX9TyM4VZ3vr8lrlK6T907mEN1l",
      "include_colab_link": true
    },
    "kernelspec": {
      "name": "python3",
      "display_name": "Python 3"
    },
    "language_info": {
      "name": "python"
    }
  },
  "cells": [
    {
      "cell_type": "markdown",
      "metadata": {
        "id": "view-in-github",
        "colab_type": "text"
      },
      "source": [
        "<a href=\"https://colab.research.google.com/github/sanheensethi/TS-to-MP4/blob/main/Convert_TS_to_MP4.ipynb\" target=\"_parent\"><img src=\"https://colab.research.google.com/assets/colab-badge.svg\" alt=\"Open In Colab\"/></a>"
      ]
    },
    {
      "cell_type": "markdown",
      "metadata": {
        "id": "8E5__sTfEO-z"
      },
      "source": [
        "#Prerequesties\n",
        " \n",
        "**Important to run this code**\n",
        " \n",
        "One time required when you run the file\n",
        " \n",
        "**NOTE - While Converting The Video or Folder , That video or folder should be present in your drive**"
      ]
    },
    {
      "cell_type": "code",
      "metadata": {
        "id": "lW4GCKT-bTMN",
        "cellView": "form",
        "colab": {
          "base_uri": "https://localhost:8080/"
        },
        "outputId": "fc73eefa-5c26-4284-b3bd-e5eea30f1f25"
      },
      "source": [
        "#@title Click Run Button {run:\"auto\"}\n",
        "!apt install ffmpeg\n",
        "from google.colab import drive\n",
        "drive.mount('/content/drive')\n",
        "!mkdir /content/drive/MyDrive/SV_ProgrammingGFG\n",
        "#SV - single video"
      ],
      "execution_count": 1,
      "outputs": [
        {
          "output_type": "stream",
          "text": [
            "Reading package lists... Done\n",
            "Building dependency tree       \n",
            "Reading state information... Done\n",
            "ffmpeg is already the newest version (7:3.4.8-0ubuntu0.2).\n",
            "The following package was automatically installed and is no longer required:\n",
            "  libnvidia-common-460\n",
            "Use 'apt autoremove' to remove it.\n",
            "0 upgraded, 0 newly installed, 0 to remove and 34 not upgraded.\n",
            "Drive already mounted at /content/drive; to attempt to forcibly remount, call drive.mount(\"/content/drive\", force_remount=True).\n",
            "mkdir: cannot create directory ‘/content/drive/MyDrive/SV_ProgrammingGFG’: File exists\n"
          ],
          "name": "stdout"
        }
      ]
    },
    {
      "cell_type": "markdown",
      "metadata": {
        "id": "K20E0Ru3EbWV"
      },
      "source": [
        "#Convert Single File !\n",
        "- Copy your VideoFile Full Path from the **Show File Browser > drive > MyDrive** in menu of Google Colab\n",
        "- Enter It.\n",
        "- Enter the output Filename\n",
        "- Wait and Drink Coffee\n",
        " \n",
        "**Output File is present in SV_ProgrammingGFG in your drive**"
      ]
    },
    {
      "cell_type": "code",
      "metadata": {
        "id": "u3uAJrX1B6yX"
      },
      "source": [
        "#@title Convert Single File {display-mode:\"form\"}\n",
        "FilePath = ''  #@param {type:\"string\"}\n",
        "OutFileName = ''  #@param {type:\"string\"}\n",
        "filename = Filename\n",
        "outfile = OutFileName\n",
        "!rm -r fileconvert.sh\n",
        "import os\n",
        "print(\"Hi , Sanheen Here !\")\n",
        "print()\n",
        "f = open(\"fileconvert.sh\",\"w\")\n",
        "f.write(f\"ffmpeg -i '{filename}' -c:v libx264 -c:a aac '/content/drive/MyDrive/SV_ProgrammingGFG/con_{outfile}.mp4'\")\n",
        "print(f\"Converting ({filename}) => ({outfile}.mp4)\")\n",
        "print(\"*******************\")\n",
        "print()\n",
        "!sh fileconvert.sh\n",
        "print()\n",
        "print(\"*******************\")\n",
        "print()\n",
        "print(f\"File : {filename} -> {outfile}.mp4 Converted Successfully !\")\n",
        "print()\n",
        "print(\"Output file is in your drive Folder name : SV_ProgrammingGFG\")\n",
        "print(\"Thankyou ! 😋\")"
      ],
      "execution_count": null,
      "outputs": []
    },
    {
      "cell_type": "markdown",
      "metadata": {
        "id": "DN3agMdXGt0t"
      },
      "source": [
        "#Convert The Whole Folder !\n",
        " \n",
        "- Enter your Folder Full Path from the **Show File Browser > drive > MyDrive** in menu of Google Colab\n",
        "- Just Wait Now ! Drink Coffee ...\n",
        "- **Make Sure, You have Space in your Drive - otherwise Converting Single File is the best option**"
      ]
    },
    {
      "cell_type": "code",
      "metadata": {
        "id": "B_qO9aaLfGWB"
      },
      "source": [
        "#@title Convert Directory {display-mode:\"form\",run:\"auto\"} \n",
        "DirectoryPath = ''  #@param {type:\"string\"}\n",
        " \n",
        " \n",
        "print('Hi, Sanheen Here !')\n",
        "print()\n",
        "!rm -rvf ProgrammingGFG\n",
        "!mkdir ProgrammingGFG\n",
        "!mkdir /content/drive/MyDrive/GFGMP4\n",
        "!rm -r convert.sh\n",
        " \n",
        "print()\n",
        "print(\"I will Copy Files in your drive in GFGMP4 folder\")\n",
        "print()\n",
        "print(\"******* START *******\")\n",
        "import os\n",
        " \n",
        "def getListOfFiles(dirName):\n",
        "    # create a list of file and sub directories \n",
        "    # names in the given directory \n",
        "    listOfFile = os.listdir(dirName)\n",
        "    allFiles = list()\n",
        "    # Iterate over all the entries\n",
        "    for entry in listOfFile:\n",
        "        # Create full path\n",
        "        fullPath = os.path.join(dirName, entry)\n",
        "        # If entry is a directory then get the list of files in this directory \n",
        "        if os.path.isdir(fullPath):\n",
        "            allFiles = allFiles + getListOfFiles(fullPath)\n",
        "        else:\n",
        "            allFiles.append(fullPath)\n",
        "                \n",
        "    return allFiles        \n",
        "def main():\n",
        "    \n",
        "    dirName = DirectoryPath\n",
        "    \n",
        "    # Get the list of all files in directory tree at given path\n",
        "    listOfFiles = list()\n",
        "    filename = list()\n",
        "    for (dirpath, dirnames, filenames) in os.walk(dirName):\n",
        "        listOfFiles += [os.path.join(dirpath, file) for file in filenames if '.ts' in file]\n",
        "        filename += [file for file in filenames if '.ts' in file]\n",
        "        \n",
        " \n",
        "    c = 1\n",
        "    f = open(\"convert.sh\",\"a+\")\n",
        "    i = 0\n",
        "    for elem in listOfFiles:\n",
        "        print(f\"Reading File {c}\")\n",
        "        s = f\"ffmpeg -i '{elem}' -c:v libx264 -c:a aac '/content/drive/MyDrive/GFGMP4/out_{filename[i]}.mp4'\"\n",
        "        #v = f\"cp -vf 'ProgrammingGFG/output{c}.mp4' '/content/drive/MyDrive/GFGMP4/{filename[i]}.mp4'\"\n",
        "        f.write(s+\"\\n\")\n",
        "        #f.write(v+\"\\n\")\n",
        "        print(s)\n",
        "        #print(v)\n",
        "        c=c+1\n",
        "        i = i+1\n",
        "    f.close()\n",
        " \n",
        " \n",
        "if __name__ == '__main__':\n",
        "    print(\"Converting All Files ... It will Take Time !\")\n",
        "    print(\"*************\")\n",
        "    main()\n",
        " \n",
        "!sh convert.sh\n",
        "print()\n",
        "print(\"******* END *******\")\n",
        "print(\"Files are in your drive Folder Name - GFGMP4\")\n",
        "print()\n",
        "print(\"Thankyou ! 😋\")"
      ],
      "execution_count": null,
      "outputs": []
    }
  ]
}